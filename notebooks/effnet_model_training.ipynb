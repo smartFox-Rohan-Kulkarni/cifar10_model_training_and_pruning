{
  "nbformat": 4,
  "nbformat_minor": 0,
  "metadata": {
    "colab": {
      "provenance": []
    },
    "kernelspec": {
      "name": "python3",
      "display_name": "Python 3"
    },
    "language_info": {
      "name": "python"
    }
  },
  "cells": [
    {
      "cell_type": "code",
      "execution_count": 15,
      "metadata": {
        "colab": {
          "base_uri": "https://localhost:8080/"
        },
        "id": "zIaBvpHM2myU",
        "outputId": "c64033e3-171d-4267-991e-080502b35477"
      },
      "outputs": [
        {
          "output_type": "stream",
          "name": "stdout",
          "text": [
            "Requirement already satisfied: torch in /usr/local/lib/python3.10/dist-packages (2.4.0+cu121)\n",
            "Requirement already satisfied: torchvision in /usr/local/lib/python3.10/dist-packages (0.19.0+cu121)\n",
            "Requirement already satisfied: filelock in /usr/local/lib/python3.10/dist-packages (from torch) (3.15.4)\n",
            "Requirement already satisfied: typing-extensions>=4.8.0 in /usr/local/lib/python3.10/dist-packages (from torch) (4.12.2)\n",
            "Requirement already satisfied: sympy in /usr/local/lib/python3.10/dist-packages (from torch) (1.13.2)\n",
            "Requirement already satisfied: networkx in /usr/local/lib/python3.10/dist-packages (from torch) (3.3)\n",
            "Requirement already satisfied: jinja2 in /usr/local/lib/python3.10/dist-packages (from torch) (3.1.4)\n",
            "Requirement already satisfied: fsspec in /usr/local/lib/python3.10/dist-packages (from torch) (2024.6.1)\n",
            "Requirement already satisfied: numpy in /usr/local/lib/python3.10/dist-packages (from torchvision) (1.26.4)\n",
            "Requirement already satisfied: pillow!=8.3.*,>=5.3.0 in /usr/local/lib/python3.10/dist-packages (from torchvision) (9.4.0)\n",
            "Requirement already satisfied: MarkupSafe>=2.0 in /usr/local/lib/python3.10/dist-packages (from jinja2->torch) (2.1.5)\n",
            "Requirement already satisfied: mpmath<1.4,>=1.1.0 in /usr/local/lib/python3.10/dist-packages (from sympy->torch) (1.3.0)\n"
          ]
        }
      ],
      "source": [
        "!pip install torch torchvision"
      ]
    },
    {
      "cell_type": "code",
      "source": [
        "!pip install tqdm torchviz"
      ],
      "metadata": {
        "colab": {
          "base_uri": "https://localhost:8080/"
        },
        "id": "qkgJKZqe2rOe",
        "outputId": "0a490ea1-e727-4075-dfbf-57cf77481823"
      },
      "execution_count": 16,
      "outputs": [
        {
          "output_type": "stream",
          "name": "stdout",
          "text": [
            "Requirement already satisfied: tqdm in /usr/local/lib/python3.10/dist-packages (4.66.5)\n",
            "Requirement already satisfied: torchviz in /usr/local/lib/python3.10/dist-packages (0.0.2)\n",
            "Requirement already satisfied: torch in /usr/local/lib/python3.10/dist-packages (from torchviz) (2.4.0+cu121)\n",
            "Requirement already satisfied: graphviz in /usr/local/lib/python3.10/dist-packages (from torchviz) (0.20.3)\n",
            "Requirement already satisfied: filelock in /usr/local/lib/python3.10/dist-packages (from torch->torchviz) (3.15.4)\n",
            "Requirement already satisfied: typing-extensions>=4.8.0 in /usr/local/lib/python3.10/dist-packages (from torch->torchviz) (4.12.2)\n",
            "Requirement already satisfied: sympy in /usr/local/lib/python3.10/dist-packages (from torch->torchviz) (1.13.2)\n",
            "Requirement already satisfied: networkx in /usr/local/lib/python3.10/dist-packages (from torch->torchviz) (3.3)\n",
            "Requirement already satisfied: jinja2 in /usr/local/lib/python3.10/dist-packages (from torch->torchviz) (3.1.4)\n",
            "Requirement already satisfied: fsspec in /usr/local/lib/python3.10/dist-packages (from torch->torchviz) (2024.6.1)\n",
            "Requirement already satisfied: MarkupSafe>=2.0 in /usr/local/lib/python3.10/dist-packages (from jinja2->torch->torchviz) (2.1.5)\n",
            "Requirement already satisfied: mpmath<1.4,>=1.1.0 in /usr/local/lib/python3.10/dist-packages (from sympy->torch->torchviz) (1.3.0)\n"
          ]
        }
      ]
    },
    {
      "cell_type": "code",
      "source": [
        "import torch\n",
        "import torch.nn as nn\n",
        "import torch.optim as optim\n",
        "import torchvision\n",
        "import torchvision.transforms as transforms\n",
        "from torchvision.models import efficientnet_b0\n",
        "from tqdm import tqdm\n",
        "import logging\n",
        "import torchviz\n",
        "from torch.utils.data import random_split\n",
        "\n",
        "import matplotlib.pyplot as plt\n",
        "import matplotlib.image as mpimg\n",
        "\n",
        "import torch.jit as jit\n",
        "\n",
        "\n",
        "# Set up logging\n",
        "logging.basicConfig(level=logging.INFO, format='%(asctime)s - %(levelname)s - %(message)s')"
      ],
      "metadata": {
        "id": "L3gdlPqO2raA"
      },
      "execution_count": null,
      "outputs": []
    },
    {
      "cell_type": "code",
      "source": [],
      "metadata": {
        "id": "-zd0R_8ZFEin"
      },
      "execution_count": 25,
      "outputs": []
    },
    {
      "cell_type": "code",
      "source": [
        "# Define the EfficientNet-based feature extractor\n",
        "class EfficientNetExtractor(nn.Module):\n",
        "    def __init__(self):\n",
        "        super(EfficientNetExtractor, self).__init__()\n",
        "        self.efficient_net = efficientnet_b0(pretrained=True)\n",
        "\n",
        "        # Remove the last few layers to adapt to smaller input size\n",
        "        self.feature_extractor = nn.Sequential(\n",
        "            self.efficient_net.features[0],  # Conv2d\n",
        "            self.efficient_net.features[1],  # BatchNorm2d\n",
        "            self.efficient_net.features[2],  # SiLU\n",
        "            self.efficient_net.features[3],  # MBConv block\n",
        "            self.efficient_net.features[4],  # MBConv block\n",
        "        )\n",
        "\n",
        "    def forward(self, x):\n",
        "        x = self.feature_extractor(x)\n",
        "        return x\n",
        "\n",
        "\n",
        "# Define the Contrastive Clustering Loss\n",
        "class ContrastiveClusteringLoss(nn.Module):\n",
        "    def __init__(self, temperature=0.5):\n",
        "        super(ContrastiveClusteringLoss, self).__init__()\n",
        "        self.temperature = temperature\n",
        "        self.criterion = nn.CrossEntropyLoss()\n",
        "\n",
        "    def forward(self, features, labels):\n",
        "        batch_size = features.shape[0]\n",
        "\n",
        "        labels = labels.contiguous().view(-1, 1)\n",
        "        mask = torch.eq(labels, labels.T).float().to(features.device)\n",
        "\n",
        "        contrast_feature = torch.cat([features, features], dim=0)  # Duplicate features for contrastive learning\n",
        "        anchor_feature = contrast_feature\n",
        "        anchor_dot_contrast = torch.div(\n",
        "            torch.matmul(anchor_feature, contrast_feature.T),\n",
        "            self.temperature)\n",
        "\n",
        "        # For numerical stability\n",
        "        logits_max, _ = torch.max(anchor_dot_contrast, dim=1, keepdim=True)\n",
        "        logits = anchor_dot_contrast - logits_max.detach()\n",
        "\n",
        "        # Mask to remove self-comparisons\n",
        "        mask = torch.eye(batch_size * 2, device=features.device)\n",
        "        exp_logits = torch.exp(logits) * (1 - mask)\n",
        "        log_prob = logits - torch.log(exp_logits.sum(1, keepdim=True))\n",
        "\n",
        "        # Mean of log-likelihood over positive samples\n",
        "        loss = -torch.sum(mask * log_prob) / batch_size\n",
        "\n",
        "        return loss\n",
        "\n",
        "# Define the adaptive ensemble model with clustering head\n",
        "class AdaptiveEnsemble(nn.Module):\n",
        "    def __init__(self, num_classes=10, num_clusters=10):\n",
        "        super(AdaptiveEnsemble, self).__init__()\n",
        "        self.feature_extractor1 = EfficientNetExtractor()\n",
        "        self.feature_extractor2 = EfficientNetExtractor()\n",
        "\n",
        "        self.adaptive_pool = nn.AdaptiveAvgPool2d((1, 1))\n",
        "\n",
        "        # Adjust the combined_features size based on the output of EfficientNetExtractor\n",
        "        with torch.no_grad():\n",
        "            dummy_input = torch.randn(1, 3, 32, 32)\n",
        "            dummy_output = self.feature_extractor1(dummy_input)\n",
        "            combined_features = dummy_output.shape[1] * 2\n",
        "\n",
        "        self.fc = nn.Sequential(\n",
        "            nn.Linear(combined_features, 512),\n",
        "            nn.ReLU(),\n",
        "            nn.Dropout(0.3),\n",
        "            nn.Linear(512, num_classes),\n",
        "        )\n",
        "\n",
        "        self.clustering_head = nn.Linear(combined_features, num_clusters)\n",
        "\n",
        "    def forward(self, x):\n",
        "        features1 = self.feature_extractor1(x)\n",
        "        features2 = self.feature_extractor2(x)\n",
        "\n",
        "        # Apply adaptive pooling\n",
        "        features1 = self.adaptive_pool(features1).flatten(1)\n",
        "        features2 = self.adaptive_pool(features2).flatten(1)\n",
        "\n",
        "        # Combine features from both feature extractors\n",
        "        combined_features = torch.cat([features1, features2], dim=1)\n",
        "        classification_output = self.fc(combined_features)\n",
        "        clustering_output = self.clustering_head(combined_features)\n",
        "\n",
        "        return classification_output, clustering_output"
      ],
      "metadata": {
        "id": "QR0GKl4w7d0F"
      },
      "execution_count": 18,
      "outputs": []
    },
    {
      "cell_type": "code",
      "source": [
        "batch_size = 64\n",
        "dataloader_workers = 2\n",
        "train_val_split_factor = 0.8 # 80%\n",
        "nc = 10\n",
        "_lr = 0.001\n",
        "train_epochs = 10\n",
        "# pretrain_epochs = 10\n",
        "\n",
        "\n",
        "# Initialize the model, loss function, and optimizer\n",
        "device = torch.device(\"cuda\" if torch.cuda.is_available() else \"cpu\")\n",
        "model = AdaptiveEnsemble(num_classes=nc, num_clusters=nc).to(device)\n",
        "classification_criterion = nn.CrossEntropyLoss()\n",
        "contrastive_criterion = ContrastiveClusteringLoss()\n",
        "optimizer = optim.Adam(model.parameters(), lr=_lr)"
      ],
      "metadata": {
        "colab": {
          "base_uri": "https://localhost:8080/"
        },
        "id": "40ii5zqSF4iq",
        "outputId": "d435216f-99ea-4030-9c76-cf78e1d20f0a"
      },
      "execution_count": 30,
      "outputs": [
        {
          "output_type": "stream",
          "name": "stderr",
          "text": [
            "/usr/local/lib/python3.10/dist-packages/torchvision/models/_utils.py:208: UserWarning: The parameter 'pretrained' is deprecated since 0.13 and may be removed in the future, please use 'weights' instead.\n",
            "  warnings.warn(\n",
            "/usr/local/lib/python3.10/dist-packages/torchvision/models/_utils.py:223: UserWarning: Arguments other than a weight enum or `None` for 'weights' are deprecated since 0.13 and may be removed in the future. The current behavior is equivalent to passing `weights=EfficientNet_B0_Weights.IMAGENET1K_V1`. You can also use `weights=EfficientNet_B0_Weights.DEFAULT` to get the most up-to-date weights.\n",
            "  warnings.warn(msg)\n"
          ]
        }
      ]
    },
    {
      "cell_type": "code",
      "source": [
        "# Data loading and augmentation\n",
        "transform_train = transforms.Compose([\n",
        "    transforms.RandomResizedCrop(32),\n",
        "    transforms.RandomHorizontalFlip(),\n",
        "    transforms.RandomApply([transforms.ColorJitter()], p=0.8),\n",
        "    transforms.RandomGrayscale(p=0.2),\n",
        "    transforms.ToTensor(),\n",
        "    transforms.Normalize((0.5, 0.5, 0.5), (0.5, 0.5, 0.5)),\n",
        "])\n",
        "\n",
        "transform_test = transforms.Compose([\n",
        "    transforms.ToTensor(),\n",
        "    transforms.Normalize((0.5, 0.5, 0.5), (0.5, 0.5, 0.5)),\n",
        "])"
      ],
      "metadata": {
        "id": "fKP--CmM7e5J"
      },
      "execution_count": 19,
      "outputs": []
    },
    {
      "cell_type": "code",
      "source": [],
      "metadata": {
        "id": "TMDEKCpoF3n8"
      },
      "execution_count": null,
      "outputs": []
    },
    {
      "cell_type": "code",
      "source": [
        "# Load the full training set\n",
        "full_trainset = torchvision.datasets.CIFAR10(root='./data', train=True, download=True, transform=transform_train)\n",
        "\n",
        "# Split the full training set into train and validation sets\n",
        "train_size = int(train_val_split_factor * len(full_trainset))\n",
        "val_size = len(full_trainset) - train_size\n",
        "trainset, valset = random_split(full_trainset, [train_size, val_size])"
      ],
      "metadata": {
        "colab": {
          "base_uri": "https://localhost:8080/"
        },
        "id": "l4iHsGhD7tN2",
        "outputId": "1a43c842-1e76-40ee-d1f2-08a9d5a8eb3d"
      },
      "execution_count": 27,
      "outputs": [
        {
          "output_type": "stream",
          "name": "stdout",
          "text": [
            "Files already downloaded and verified\n"
          ]
        }
      ]
    },
    {
      "cell_type": "code",
      "source": [
        "trainloader = torch.utils.data.DataLoader(trainset, batch_size=batch_size, shuffle=True, num_workers=dataloader_workers)\n",
        "valloader = torch.utils.data.DataLoader(valset, batch_size=batch_size, shuffle=False, num_workers=dataloader_workers)\n",
        "\n",
        "testset = torchvision.datasets.CIFAR10(root='./data', train=False, download=True, transform=transform_test)\n",
        "testloader = torch.utils.data.DataLoader(testset, batch_size=batch_size, shuffle=False, num_workers=dataloader_workers)"
      ],
      "metadata": {
        "colab": {
          "base_uri": "https://localhost:8080/"
        },
        "id": "j0vS07M69ZDr",
        "outputId": "deb67307-8fce-40f0-a7d9-7667cc43dd4f"
      },
      "execution_count": 25,
      "outputs": [
        {
          "output_type": "stream",
          "name": "stdout",
          "text": [
            "Files already downloaded and verified\n"
          ]
        }
      ]
    },
    {
      "cell_type": "code",
      "source": [],
      "metadata": {
        "id": "GCf6WCsF_io9"
      },
      "execution_count": null,
      "outputs": []
    },
    {
      "cell_type": "code",
      "source": [
        "# # Training and testing functions\n",
        "# def pretrain(model, dataloader, contrastive_criterion, optimizer, device):\n",
        "#     model.train()\n",
        "#     running_loss = 0.0\n",
        "#     progress_bar = tqdm(dataloader, desc=\"Pretraining\", leave=False)\n",
        "#     for inputs, labels in progress_bar:\n",
        "#         inputs, labels = inputs.to(device), labels.to(device)\n",
        "#         optimizer.zero_grad()\n",
        "\n",
        "#         _, clustering_output = model(inputs)\n",
        "#         loss = contrastive_criterion(clustering_output, labels)\n",
        "#         loss.backward()\n",
        "#         optimizer.step()\n",
        "\n",
        "#         running_loss += loss.item() * inputs.size(0)\n",
        "#         progress_bar.set_postfix({\"Loss\": f\"{loss.item():.4f}\"})\n",
        "\n",
        "#     return running_loss / len(dataloader.dataset)\n",
        "\n",
        "def train(model, dataloader, classification_criterion, optimizer, device):\n",
        "    model.train()\n",
        "    running_loss = 0.0\n",
        "    progress_bar = tqdm(dataloader, desc=\"Training\", leave=False)\n",
        "    for inputs, labels in progress_bar:\n",
        "        inputs, labels = inputs.to(device), labels.to(device)\n",
        "        optimizer.zero_grad()\n",
        "\n",
        "        outputs, _ = model(inputs)\n",
        "        loss = classification_criterion(outputs, labels)\n",
        "        loss.backward()\n",
        "        optimizer.step()\n",
        "\n",
        "        running_loss += loss.item() * inputs.size(0)\n",
        "        progress_bar.set_postfix({\"Loss\": f\"{loss.item():.4f}\"})\n",
        "\n",
        "    return running_loss / len(dataloader.dataset)\n",
        "\n",
        "def evaluate(model, dataloader, classification_criterion, device):\n",
        "    model.eval()\n",
        "    correct = 0\n",
        "    total = 0\n",
        "    eval_loss = 0.0\n",
        "\n",
        "    progress_bar = tqdm(dataloader, desc=\"Evaluating\", leave=False)\n",
        "    with torch.no_grad():\n",
        "        for inputs, labels in progress_bar:\n",
        "            inputs, labels = inputs.to(device), labels.to(device)\n",
        "            outputs, _ = model(inputs)\n",
        "            loss = classification_criterion(outputs, labels)\n",
        "            eval_loss += loss.item() * inputs.size(0)\n",
        "            _, predicted = torch.max(outputs.data, 1)\n",
        "            total += labels.size(0)\n",
        "            correct += (predicted == labels).sum().item()\n",
        "            progress_bar.set_postfix({\"Loss\": f\"{loss.item():.4f}\"})\n",
        "\n",
        "    accuracy = 100 * correct / total\n",
        "    return eval_loss / len(dataloader.dataset), accuracy\n"
      ],
      "metadata": {
        "id": "8RIRsgzDANFP"
      },
      "execution_count": 31,
      "outputs": []
    },
    {
      "cell_type": "code",
      "source": [
        "# Generate model diagram\n",
        "def generate_model_diagram(model):\n",
        "    x = torch.randn(1, 3, 32, 32).to(device)  # Use 32x32 input size\n",
        "    try:\n",
        "        y = model(x)\n",
        "        dot = torchviz.make_dot(y[0], params=dict(model.named_parameters()))\n",
        "        dot.render(\"model_diagram\", format=\"png\")\n",
        "        logging.info(\"Model diagram generated and saved as 'model_diagram.png'\")\n",
        "    except Exception as e:\n",
        "        logging.error(f\"Failed to generate model diagram: {str(e)}\")\n",
        "\n",
        "# Generate the model diagram\n",
        "generate_model_diagram(model)\n",
        "img = mpimg.imread('model_diagram.png')\n",
        "\n",
        "plt.imshow(img)\n",
        "plt.show()"
      ],
      "metadata": {
        "colab": {
          "base_uri": "https://localhost:8080/",
          "height": 435
        },
        "id": "0lDwm1VJAfn5",
        "outputId": "99a61b29-8804-4d11-b9cf-850ecb0bf533"
      },
      "execution_count": 34,
      "outputs": [
        {
          "output_type": "display_data",
          "data": {
            "text/plain": [
              "<Figure size 640x480 with 1 Axes>"
            ],
            "image/png": "[encoded data removed]"
          },
          "metadata": {}
        }
      ]
    },
    {
      "cell_type": "code",
      "source": [
        "# Pretraining the model with contrastive loss\n",
        "# for epoch in range(pretrain_epochs):\n",
        "#     pretrain_loss = pretrain(model, trainloader, contrastive_criterion, optimizer, device)\n",
        "#     logging.info(f'Pretrain Epoch {epoch+1}/{pretrain_epochs}, Pretrain Loss: {pretrain_loss:.4f}')\n",
        "\n",
        "# Fine-tuning the model with classification loss\n",
        "best_val_accuracy = 0\n",
        "for epoch in range(train_epochs):\n",
        "    logging.info(f\"epoch: {epoch}\")\n",
        "    train_loss = train(model, trainloader, classification_criterion, optimizer, device)\n",
        "    val_loss, val_accuracy = evaluate(model, valloader, classification_criterion, device)\n",
        "\n",
        "    logging.info(f'Finetune Epoch {epoch+1}/{train_epochs}, '\n",
        "                 f'Train Loss: {train_loss:.4f}, '\n",
        "                 f'Val Loss: {val_loss:.4f}, '\n",
        "                 f'Val Accuracy: {val_accuracy:.2f}%')\n",
        "\n",
        "    if val_accuracy > best_val_accuracy:\n",
        "        best_val_accuracy = val_accuracy\n",
        "        torch.save(model.state_dict(), 'best_model.pth')\n",
        "        logging.info(f'New best model saved with validation accuracy: {best_val_accuracy:.2f}%')\n",
        "\n",
        "# Load the best model and evaluate on the test set\n",
        "model.load_state_dict(torch.load('best_model.pth'))\n",
        "test_loss, test_accuracy = evaluate(model, testloader, classification_criterion, device)\n",
        "logging.info(f'Test Loss: {test_loss:.4f}, Test Accuracy: {test_accuracy:.2f}%')"
      ],
      "metadata": {
        "colab": {
          "base_uri": "https://localhost:8080/"
        },
        "id": "X1lgrwTkGQ2j",
        "outputId": "e3546c09-d6da-4c61-bab8-a965e127ec7e"
      },
      "execution_count": null,
      "outputs": [
        {
          "output_type": "stream",
          "name": "stderr",
          "text": [
            "Training:   1%|▏         | 8/625 [00:05<06:33,  1.57it/s, Loss=1.1233]"
          ]
        }
      ]
    },
    {
      "cell_type": "code",
      "source": [
        "scripted_model = torch.jit.script(model)\n",
        "torch.jit.save(scripted_model, 'jit_model.pt')"
      ],
      "metadata": {
        "id": "OR8wjfIXGq0u"
      },
      "execution_count": null,
      "outputs": []
    },
    {
      "cell_type": "code",
      "source": [
        "classes = ('plane', 'car', 'bird', 'cat', 'deer', 'dog', 'frog', 'horse', 'ship', 'truck')"
      ],
      "metadata": {
        "id": "NbhD0NolJIQd"
      },
      "execution_count": null,
      "outputs": []
    },
    {
      "cell_type": "code",
      "source": [
        "import torch\n",
        "import torchvision\n",
        "import torchvision.transforms as transforms\n",
        "import numpy as np\n",
        "import matplotlib.pyplot as plt\n",
        "\n",
        "\n",
        "testloader = torch.utils.data.DataLoader(testset, batch_size=1, shuffle=False, num_workers=2)\n",
        "\n",
        "\n",
        "device = torch.device(\"cuda\" if torch.cuda.is_available() else \"cpu\")\n",
        "model = AdaptiveEnsemble(num_classes=nc, num_clusters=nc).to(device)\n",
        "model.load_state_dict(torch.load('best_model.pth'))\n",
        "model.eval()\n",
        "\n",
        "def imshow(img):\n",
        "    img = img / 2 + 0.5\n",
        "    npimg = img.numpy()\n",
        "    plt.imshow(np.transpose(npimg, (1, 2, 0)))\n",
        "    plt.axis('off')\n",
        "    plt.show()\n",
        "\n",
        "dataiter = iter(testloader)\n",
        "images, labels = next(dataiter)\n",
        "\n",
        "logging.info(f\"\"\"Ground Truth: {' '.join(f'{classes[labels[j]]:5s}' for j in range(4))}\"\"\")\n",
        "\n",
        "imshow(torchviz.utils.make_grid(images[:4]))\n",
        "\n",
        "outputs = model(images.to(device))[0]\n",
        "_, predicted = torch.max(outputs, 1)\n",
        "\n",
        "logging.info(f\"\"\"Predicted: ', {' '.join(f'{classes[predicted[j]]:5s}' for j in range(4))}\"\"\")\n",
        "\n",
        "def get_prediction(image):\n",
        "    with torch.no_grad():\n",
        "        output = model(image.unsqueeze(0).to(device))[0]\n",
        "        _, predicted = torch.max(output, 1)\n",
        "        return classes[predicted.item()]\n",
        "\n",
        "num_samples = 10\n",
        "fig, axes = plt.subplots(2, 5, figsize=(15, 6))\n",
        "fig.suptitle(\"Sample Predictions\", fontsize=16)\n",
        "\n",
        "for i in range(num_samples):\n",
        "    ax = axes[i // 5, i % 5]\n",
        "    image, label = testset[i]\n",
        "    prediction = get_prediction(image)\n",
        "\n",
        "    imshow(image)\n",
        "    ax.set_title(f\"True: {classes[label]}\\nPred: {prediction}\")\n",
        "    ax.axis('off')\n",
        "\n",
        "plt.tight_layout()\n",
        "plt.show()\n",
        "\n",
        "correct = 0\n",
        "total = 0\n",
        "with torch.no_grad():\n",
        "    for images, labels in testloader:\n",
        "        images, labels = images.to(device), labels.to(device)\n",
        "        outputs = model(images)[0]\n",
        "        _, predicted = torch.max(outputs.data, 1)\n",
        "        total += labels.size(0)\n",
        "        correct += (predicted == labels).sum().item()\n",
        "\n",
        "logging.info(f'Accuracy on the test set: {100 * correct / total:.2f}%')"
      ],
      "metadata": {
        "id": "zNFM7S_pIyxh"
      },
      "execution_count": null,
      "outputs": []
    }
  ]
}